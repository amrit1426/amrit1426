{
 "cells": [
  {
   "cell_type": "markdown",
   "id": "ac83ed54-d8e9-4672-8e22-c81d59ed5af5",
   "metadata": {},
   "source": [
    "# Installing & Importing "
   ]
  },
  {
   "cell_type": "code",
   "execution_count": 188,
   "id": "828df7a8-0fa7-4855-946a-db98cb58e95f",
   "metadata": {},
   "outputs": [],
   "source": [
    "# Importing package pandas (For Panel Data Analysis)\n",
    "import pandas as pd\n",
    "\n",
    "# Unfolding hidden features if the cardinality is high\n",
    "pd.set_option('display.max_columns', None) \n",
    "\n",
    "# Unfolding the max feature width for better clearity\n",
    "pd.set_option('display.max_colwidth', None)                        \n",
    "\n",
    "# Import Pandas Profiling (To generate Univariate Analysis)\n",
    "from ydata_profiling import ProfileReport\n",
    "\n",
    "# Importing package numpys (For Numerical Python)\n",
    "import numpy as np\n",
    "\n",
    "# Importing pyplot interface to use matplotlib\n",
    "import matplotlib.pyplot as plt\n",
    "\n",
    "# Importing seaborn library for interactive visualization\n",
    "import seaborn as sns                                               \n",
    "%matplotlib inline\n",
    "\n",
    "# Importing library for scientific calculations\n",
    "import scipy as sp\n",
    "\n",
    "# Importing warning to disable runtime warnings\n",
    "import warnings\n",
    "\n",
    "# Warnings will appear only once\n",
    "warnings.filterwarnings(\"ignore\")                                   \n"
   ]
  },
  {
   "cell_type": "markdown",
   "id": "a6c35a6f-18f8-4297-842f-35df57e663a6",
   "metadata": {},
   "source": [
    "# Data Acquisition & Description"
   ]
  },
  {
   "cell_type": "code",
   "execution_count": 189,
   "id": "77d017b7-bdee-4eb9-9f42-7906bab06400",
   "metadata": {},
   "outputs": [
    {
     "name": "stdout",
     "output_type": "stream",
     "text": [
      "Data Shape: (1653, 6)\n"
     ]
    },
    {
     "data": {
      "text/html": [
       "<div>\n",
       "<style scoped>\n",
       "    .dataframe tbody tr th:only-of-type {\n",
       "        vertical-align: middle;\n",
       "    }\n",
       "\n",
       "    .dataframe tbody tr th {\n",
       "        vertical-align: top;\n",
       "    }\n",
       "\n",
       "    .dataframe thead th {\n",
       "        text-align: right;\n",
       "    }\n",
       "</style>\n",
       "<table border=\"1\" class=\"dataframe\">\n",
       "  <thead>\n",
       "    <tr style=\"text-align: right;\">\n",
       "      <th></th>\n",
       "      <th>date</th>\n",
       "      <th>datetime</th>\n",
       "      <th>cash_type</th>\n",
       "      <th>card</th>\n",
       "      <th>money</th>\n",
       "      <th>coffee_name</th>\n",
       "    </tr>\n",
       "  </thead>\n",
       "  <tbody>\n",
       "    <tr>\n",
       "      <th>0</th>\n",
       "      <td>2024-03-01</td>\n",
       "      <td>2024-03-01 10:15:50.520</td>\n",
       "      <td>card</td>\n",
       "      <td>ANON-0000-0000-0001</td>\n",
       "      <td>38.7</td>\n",
       "      <td>Latte</td>\n",
       "    </tr>\n",
       "    <tr>\n",
       "      <th>1</th>\n",
       "      <td>2024-03-01</td>\n",
       "      <td>2024-03-01 12:19:22.539</td>\n",
       "      <td>card</td>\n",
       "      <td>ANON-0000-0000-0002</td>\n",
       "      <td>38.7</td>\n",
       "      <td>Hot Chocolate</td>\n",
       "    </tr>\n",
       "    <tr>\n",
       "      <th>2</th>\n",
       "      <td>2024-03-01</td>\n",
       "      <td>2024-03-01 12:20:18.089</td>\n",
       "      <td>card</td>\n",
       "      <td>ANON-0000-0000-0002</td>\n",
       "      <td>38.7</td>\n",
       "      <td>Hot Chocolate</td>\n",
       "    </tr>\n",
       "    <tr>\n",
       "      <th>3</th>\n",
       "      <td>2024-03-01</td>\n",
       "      <td>2024-03-01 13:46:33.006</td>\n",
       "      <td>card</td>\n",
       "      <td>ANON-0000-0000-0003</td>\n",
       "      <td>28.9</td>\n",
       "      <td>Americano</td>\n",
       "    </tr>\n",
       "    <tr>\n",
       "      <th>4</th>\n",
       "      <td>2024-03-01</td>\n",
       "      <td>2024-03-01 13:48:14.626</td>\n",
       "      <td>card</td>\n",
       "      <td>ANON-0000-0000-0004</td>\n",
       "      <td>38.7</td>\n",
       "      <td>Latte</td>\n",
       "    </tr>\n",
       "  </tbody>\n",
       "</table>\n",
       "</div>"
      ],
      "text/plain": [
       "         date                 datetime cash_type                 card  money  \\\n",
       "0  2024-03-01  2024-03-01 10:15:50.520      card  ANON-0000-0000-0001   38.7   \n",
       "1  2024-03-01  2024-03-01 12:19:22.539      card  ANON-0000-0000-0002   38.7   \n",
       "2  2024-03-01  2024-03-01 12:20:18.089      card  ANON-0000-0000-0002   38.7   \n",
       "3  2024-03-01  2024-03-01 13:46:33.006      card  ANON-0000-0000-0003   28.9   \n",
       "4  2024-03-01  2024-03-01 13:48:14.626      card  ANON-0000-0000-0004   38.7   \n",
       "\n",
       "     coffee_name  \n",
       "0          Latte  \n",
       "1  Hot Chocolate  \n",
       "2  Hot Chocolate  \n",
       "3      Americano  \n",
       "4          Latte  "
      ]
     },
     "execution_count": 189,
     "metadata": {},
     "output_type": "execute_result"
    }
   ],
   "source": [
    "df = pd.read_csv(filepath_or_buffer = '20240929_kaggle_Coffee Sales Dataset.csv')\n",
    "print('Data Shape:', df.shape)\n",
    "df.head(5)"
   ]
  },
  {
   "cell_type": "code",
   "execution_count": 190,
   "id": "5a77c8dc-9693-479c-9c17-d00f2c55ea84",
   "metadata": {},
   "outputs": [
    {
     "name": "stdout",
     "output_type": "stream",
     "text": [
      "<class 'pandas.core.frame.DataFrame'>\n",
      "RangeIndex: 1653 entries, 0 to 1652\n",
      "Data columns (total 6 columns):\n",
      " #   Column       Non-Null Count  Dtype  \n",
      "---  ------       --------------  -----  \n",
      " 0   date         1653 non-null   object \n",
      " 1   datetime     1653 non-null   object \n",
      " 2   cash_type    1653 non-null   object \n",
      " 3   card         1564 non-null   object \n",
      " 4   money        1653 non-null   float64\n",
      " 5   coffee_name  1653 non-null   object \n",
      "dtypes: float64(1), object(5)\n",
      "memory usage: 77.6+ KB\n"
     ]
    }
   ],
   "source": [
    "df.info()"
   ]
  },
  {
   "cell_type": "code",
   "execution_count": 191,
   "id": "b2a5e3d5-3f95-4254-ad66-b8a65ce9661b",
   "metadata": {},
   "outputs": [
    {
     "data": {
      "text/html": [
       "<div>\n",
       "<style scoped>\n",
       "    .dataframe tbody tr th:only-of-type {\n",
       "        vertical-align: middle;\n",
       "    }\n",
       "\n",
       "    .dataframe tbody tr th {\n",
       "        vertical-align: top;\n",
       "    }\n",
       "\n",
       "    .dataframe thead th {\n",
       "        text-align: right;\n",
       "    }\n",
       "</style>\n",
       "<table border=\"1\" class=\"dataframe\">\n",
       "  <thead>\n",
       "    <tr style=\"text-align: right;\">\n",
       "      <th></th>\n",
       "      <th>money</th>\n",
       "    </tr>\n",
       "  </thead>\n",
       "  <tbody>\n",
       "    <tr>\n",
       "      <th>count</th>\n",
       "      <td>1653.000000</td>\n",
       "    </tr>\n",
       "    <tr>\n",
       "      <th>mean</th>\n",
       "      <td>31.581174</td>\n",
       "    </tr>\n",
       "    <tr>\n",
       "      <th>std</th>\n",
       "      <td>5.380129</td>\n",
       "    </tr>\n",
       "    <tr>\n",
       "      <th>min</th>\n",
       "      <td>18.120000</td>\n",
       "    </tr>\n",
       "    <tr>\n",
       "      <th>25%</th>\n",
       "      <td>27.920000</td>\n",
       "    </tr>\n",
       "    <tr>\n",
       "      <th>50%</th>\n",
       "      <td>32.820000</td>\n",
       "    </tr>\n",
       "    <tr>\n",
       "      <th>75%</th>\n",
       "      <td>37.720000</td>\n",
       "    </tr>\n",
       "    <tr>\n",
       "      <th>max</th>\n",
       "      <td>40.000000</td>\n",
       "    </tr>\n",
       "  </tbody>\n",
       "</table>\n",
       "</div>"
      ],
      "text/plain": [
       "             money\n",
       "count  1653.000000\n",
       "mean     31.581174\n",
       "std       5.380129\n",
       "min      18.120000\n",
       "25%      27.920000\n",
       "50%      32.820000\n",
       "75%      37.720000\n",
       "max      40.000000"
      ]
     },
     "execution_count": 191,
     "metadata": {},
     "output_type": "execute_result"
    }
   ],
   "source": [
    "df.describe()"
   ]
  },
  {
   "cell_type": "code",
   "execution_count": 192,
   "id": "f2f548e7-61b5-47ca-b6af-69f353f32baf",
   "metadata": {},
   "outputs": [
    {
     "data": {
      "text/plain": [
       "Index(['date', 'datetime', 'cash_type', 'card', 'money', 'coffee_name'], dtype='object')"
      ]
     },
     "execution_count": 192,
     "metadata": {},
     "output_type": "execute_result"
    }
   ],
   "source": [
    "df.columns"
   ]
  },
  {
   "cell_type": "code",
   "execution_count": 193,
   "id": "f56cbf9f-b61b-4469-baae-a1f37411dfce",
   "metadata": {},
   "outputs": [
    {
     "data": {
      "text/plain": [
       "date           1653\n",
       "datetime       1653\n",
       "cash_type      1653\n",
       "card           1564\n",
       "money          1653\n",
       "coffee_name    1653\n",
       "dtype: int64"
      ]
     },
     "execution_count": 193,
     "metadata": {},
     "output_type": "execute_result"
    }
   ],
   "source": [
    "df.count()"
   ]
  },
  {
   "cell_type": "code",
   "execution_count": 194,
   "id": "a646ce87-0344-4d88-8526-dff824a8747b",
   "metadata": {},
   "outputs": [
    {
     "data": {
      "text/plain": [
       "<bound method Series.info of 0       ANON-0000-0000-0001\n",
       "1       ANON-0000-0000-0002\n",
       "2       ANON-0000-0000-0002\n",
       "3       ANON-0000-0000-0003\n",
       "4       ANON-0000-0000-0004\n",
       "               ...         \n",
       "1648    ANON-0000-0000-0655\n",
       "1649    ANON-0000-0000-0637\n",
       "1650    ANON-0000-0000-0637\n",
       "1651    ANON-0000-0000-0656\n",
       "1652    ANON-0000-0000-0657\n",
       "Name: card, Length: 1653, dtype: object>"
      ]
     },
     "execution_count": 194,
     "metadata": {},
     "output_type": "execute_result"
    }
   ],
   "source": [
    "df[\"card\"].info"
   ]
  },
  {
   "cell_type": "code",
   "execution_count": 195,
   "id": "6fc04fc7-08a4-4294-b36a-18bc188991c4",
   "metadata": {},
   "outputs": [
    {
     "data": {
      "text/plain": [
       "count                    1653\n",
       "unique                      8\n",
       "top       Americano with Milk\n",
       "freq                      413\n",
       "Name: coffee_name, dtype: object"
      ]
     },
     "execution_count": 195,
     "metadata": {},
     "output_type": "execute_result"
    }
   ],
   "source": [
    "df[\"coffee_name\"].describe()"
   ]
  },
  {
   "cell_type": "code",
   "execution_count": 196,
   "id": "30702fb3-74bc-40df-afbf-988a1240e4d4",
   "metadata": {},
   "outputs": [
    {
     "data": {
      "text/plain": [
       "coffee_name\n",
       "Americano with Milk    413\n",
       "Latte                  370\n",
       "Cappuccino             254\n",
       "Americano              231\n",
       "Cortado                169\n",
       "Hot Chocolate           88\n",
       "Espresso                74\n",
       "Cocoa                   54\n",
       "Name: count, dtype: int64"
      ]
     },
     "execution_count": 196,
     "metadata": {},
     "output_type": "execute_result"
    }
   ],
   "source": [
    "df[\"coffee_name\"].value_counts()"
   ]
  },
  {
   "cell_type": "code",
   "execution_count": 197,
   "id": "65adf9a9-5361-4c54-96c7-faa9dbf0e20b",
   "metadata": {},
   "outputs": [
    {
     "data": {
      "text/plain": [
       "8"
      ]
     },
     "execution_count": 197,
     "metadata": {},
     "output_type": "execute_result"
    }
   ],
   "source": [
    "df[\"coffee_name\"].nunique()"
   ]
  },
  {
   "cell_type": "code",
   "execution_count": 198,
   "id": "2916f609-2101-441b-a386-0565224fd528",
   "metadata": {},
   "outputs": [
    {
     "data": {
      "text/plain": [
       "count     1653\n",
       "unique       2\n",
       "top       card\n",
       "freq      1564\n",
       "Name: cash_type, dtype: object"
      ]
     },
     "execution_count": 198,
     "metadata": {},
     "output_type": "execute_result"
    }
   ],
   "source": [
    "df[\"cash_type\"].describe()"
   ]
  },
  {
   "cell_type": "code",
   "execution_count": 199,
   "id": "57049ed9-40af-4c20-ba07-d4c062a657e2",
   "metadata": {},
   "outputs": [
    {
     "data": {
      "text/plain": [
       "2"
      ]
     },
     "execution_count": 199,
     "metadata": {},
     "output_type": "execute_result"
    }
   ],
   "source": [
    "df[\"cash_type\"].nunique()"
   ]
  },
  {
   "cell_type": "code",
   "execution_count": 200,
   "id": "fbd523a5-a590-41f9-b3ec-027a1e52c849",
   "metadata": {},
   "outputs": [
    {
     "data": {
      "text/plain": [
       "cash_type\n",
       "card    1564\n",
       "cash      89\n",
       "Name: count, dtype: int64"
      ]
     },
     "execution_count": 200,
     "metadata": {},
     "output_type": "execute_result"
    }
   ],
   "source": [
    "df[\"cash_type\"].value_counts()"
   ]
  },
  {
   "cell_type": "code",
   "execution_count": 201,
   "id": "76ed1361-d3e2-4644-9f2f-3ec762bf9bdf",
   "metadata": {},
   "outputs": [
    {
     "data": {
      "text/html": [
       "<div>\n",
       "<style scoped>\n",
       "    .dataframe tbody tr th:only-of-type {\n",
       "        vertical-align: middle;\n",
       "    }\n",
       "\n",
       "    .dataframe tbody tr th {\n",
       "        vertical-align: top;\n",
       "    }\n",
       "\n",
       "    .dataframe thead th {\n",
       "        text-align: right;\n",
       "    }\n",
       "</style>\n",
       "<table border=\"1\" class=\"dataframe\">\n",
       "  <thead>\n",
       "    <tr style=\"text-align: right;\">\n",
       "      <th></th>\n",
       "      <th>date</th>\n",
       "      <th>datetime</th>\n",
       "      <th>cash_type</th>\n",
       "      <th>card</th>\n",
       "      <th>money</th>\n",
       "      <th>coffee_name</th>\n",
       "    </tr>\n",
       "  </thead>\n",
       "  <tbody>\n",
       "    <tr>\n",
       "      <th>5</th>\n",
       "      <td>2024-03-01</td>\n",
       "      <td>2024-03-01 15:39:47.726</td>\n",
       "      <td>card</td>\n",
       "      <td>ANON-0000-0000-0005</td>\n",
       "      <td>33.80</td>\n",
       "      <td>Americano with Milk</td>\n",
       "    </tr>\n",
       "    <tr>\n",
       "      <th>7</th>\n",
       "      <td>2024-03-01</td>\n",
       "      <td>2024-03-01 18:39:03.580</td>\n",
       "      <td>card</td>\n",
       "      <td>ANON-0000-0000-0007</td>\n",
       "      <td>33.80</td>\n",
       "      <td>Americano with Milk</td>\n",
       "    </tr>\n",
       "    <tr>\n",
       "      <th>9</th>\n",
       "      <td>2024-03-01</td>\n",
       "      <td>2024-03-01 19:23:15.887</td>\n",
       "      <td>card</td>\n",
       "      <td>ANON-0000-0000-0008</td>\n",
       "      <td>33.80</td>\n",
       "      <td>Americano with Milk</td>\n",
       "    </tr>\n",
       "    <tr>\n",
       "      <th>10</th>\n",
       "      <td>2024-03-01</td>\n",
       "      <td>2024-03-01 19:29:17.391</td>\n",
       "      <td>card</td>\n",
       "      <td>ANON-0000-0000-0009</td>\n",
       "      <td>33.80</td>\n",
       "      <td>Americano with Milk</td>\n",
       "    </tr>\n",
       "    <tr>\n",
       "      <th>13</th>\n",
       "      <td>2024-03-02</td>\n",
       "      <td>2024-03-02 10:41:41.249</td>\n",
       "      <td>card</td>\n",
       "      <td>ANON-0000-0000-0011</td>\n",
       "      <td>33.80</td>\n",
       "      <td>Americano with Milk</td>\n",
       "    </tr>\n",
       "    <tr>\n",
       "      <th>...</th>\n",
       "      <td>...</td>\n",
       "      <td>...</td>\n",
       "      <td>...</td>\n",
       "      <td>...</td>\n",
       "      <td>...</td>\n",
       "      <td>...</td>\n",
       "    </tr>\n",
       "    <tr>\n",
       "      <th>1645</th>\n",
       "      <td>2024-09-22</td>\n",
       "      <td>2024-09-22 20:46:26.208</td>\n",
       "      <td>card</td>\n",
       "      <td>ANON-0000-0000-0455</td>\n",
       "      <td>27.92</td>\n",
       "      <td>Americano with Milk</td>\n",
       "    </tr>\n",
       "    <tr>\n",
       "      <th>1646</th>\n",
       "      <td>2024-09-22</td>\n",
       "      <td>2024-09-22 20:47:35.096</td>\n",
       "      <td>card</td>\n",
       "      <td>ANON-0000-0000-0455</td>\n",
       "      <td>27.92</td>\n",
       "      <td>Americano with Milk</td>\n",
       "    </tr>\n",
       "    <tr>\n",
       "      <th>1647</th>\n",
       "      <td>2024-09-22</td>\n",
       "      <td>2024-09-22 21:07:04.794</td>\n",
       "      <td>card</td>\n",
       "      <td>ANON-0000-0000-0655</td>\n",
       "      <td>27.92</td>\n",
       "      <td>Americano with Milk</td>\n",
       "    </tr>\n",
       "    <tr>\n",
       "      <th>1648</th>\n",
       "      <td>2024-09-22</td>\n",
       "      <td>2024-09-22 21:08:14.798</td>\n",
       "      <td>card</td>\n",
       "      <td>ANON-0000-0000-0655</td>\n",
       "      <td>27.92</td>\n",
       "      <td>Americano with Milk</td>\n",
       "    </tr>\n",
       "    <tr>\n",
       "      <th>1652</th>\n",
       "      <td>2024-09-22</td>\n",
       "      <td>2024-09-22 22:37:58.406</td>\n",
       "      <td>card</td>\n",
       "      <td>ANON-0000-0000-0657</td>\n",
       "      <td>27.92</td>\n",
       "      <td>Americano with Milk</td>\n",
       "    </tr>\n",
       "  </tbody>\n",
       "</table>\n",
       "<p>413 rows × 6 columns</p>\n",
       "</div>"
      ],
      "text/plain": [
       "            date                 datetime cash_type                 card  \\\n",
       "5     2024-03-01  2024-03-01 15:39:47.726      card  ANON-0000-0000-0005   \n",
       "7     2024-03-01  2024-03-01 18:39:03.580      card  ANON-0000-0000-0007   \n",
       "9     2024-03-01  2024-03-01 19:23:15.887      card  ANON-0000-0000-0008   \n",
       "10    2024-03-01  2024-03-01 19:29:17.391      card  ANON-0000-0000-0009   \n",
       "13    2024-03-02  2024-03-02 10:41:41.249      card  ANON-0000-0000-0011   \n",
       "...          ...                      ...       ...                  ...   \n",
       "1645  2024-09-22  2024-09-22 20:46:26.208      card  ANON-0000-0000-0455   \n",
       "1646  2024-09-22  2024-09-22 20:47:35.096      card  ANON-0000-0000-0455   \n",
       "1647  2024-09-22  2024-09-22 21:07:04.794      card  ANON-0000-0000-0655   \n",
       "1648  2024-09-22  2024-09-22 21:08:14.798      card  ANON-0000-0000-0655   \n",
       "1652  2024-09-22  2024-09-22 22:37:58.406      card  ANON-0000-0000-0657   \n",
       "\n",
       "      money          coffee_name  \n",
       "5     33.80  Americano with Milk  \n",
       "7     33.80  Americano with Milk  \n",
       "9     33.80  Americano with Milk  \n",
       "10    33.80  Americano with Milk  \n",
       "13    33.80  Americano with Milk  \n",
       "...     ...                  ...  \n",
       "1645  27.92  Americano with Milk  \n",
       "1646  27.92  Americano with Milk  \n",
       "1647  27.92  Americano with Milk  \n",
       "1648  27.92  Americano with Milk  \n",
       "1652  27.92  Americano with Milk  \n",
       "\n",
       "[413 rows x 6 columns]"
      ]
     },
     "execution_count": 201,
     "metadata": {},
     "output_type": "execute_result"
    }
   ],
   "source": [
    "df.query('coffee_name==\"Americano with Milk\"')"
   ]
  },
  {
   "cell_type": "code",
   "execution_count": 202,
   "id": "eaa83ee7-c99c-4d89-a9a4-02b9ecb33c76",
   "metadata": {},
   "outputs": [],
   "source": [
    "# df.query('coffee_name==\"Cocoa\"')"
   ]
  },
  {
   "cell_type": "markdown",
   "id": "a4aa87f2-5812-4c04-9587-2b3da5d16705",
   "metadata": {},
   "source": [
    "## Observations"
   ]
  },
  {
   "cell_type": "code",
   "execution_count": 203,
   "id": "ac9938ce-254e-406d-b0ef-59a3f922fed7",
   "metadata": {},
   "outputs": [
    {
     "data": {
      "text/plain": [
       "count    1653.000000\n",
       "mean       31.581174\n",
       "std         5.380129\n",
       "min        18.120000\n",
       "25%        27.920000\n",
       "50%        32.820000\n",
       "75%        37.720000\n",
       "max        40.000000\n",
       "Name: money, dtype: float64"
      ]
     },
     "execution_count": 203,
     "metadata": {},
     "output_type": "execute_result"
    }
   ],
   "source": [
    "df[\"money\"].describe()"
   ]
  },
  {
   "cell_type": "code",
   "execution_count": 204,
   "id": "197940a7-723e-450d-99b5-975793ed7b68",
   "metadata": {},
   "outputs": [
    {
     "data": {
      "text/plain": [
       "coffee_name\n",
       "Americano with Milk    413\n",
       "Latte                  370\n",
       "Cappuccino             254\n",
       "Americano              231\n",
       "Cortado                169\n",
       "Hot Chocolate           88\n",
       "Espresso                74\n",
       "Cocoa                   54\n",
       "Name: count, dtype: int64"
      ]
     },
     "execution_count": 204,
     "metadata": {},
     "output_type": "execute_result"
    }
   ],
   "source": [
    "df[\"coffee_name\"].value_counts()"
   ]
  },
  {
   "cell_type": "markdown",
   "id": "2e2c4b0e-5298-4cdb-94ca-b44ff2205a53",
   "metadata": {},
   "source": [
    "### Feature Engineering for Time series exploration"
   ]
  },
  {
   "cell_type": "code",
   "execution_count": 205,
   "id": "0e3e96c6-2736-48e1-8ddc-2d223644a8c2",
   "metadata": {},
   "outputs": [],
   "source": [
    "copy_df=df"
   ]
  },
  {
   "cell_type": "markdown",
   "id": "64e27031-532d-485f-9d61-6ccff1deb015",
   "metadata": {},
   "source": [
    "#### Split and Drop\n"
   ]
  },
  {
   "cell_type": "code",
   "execution_count": 206,
   "id": "bddfbfa6-2a72-4bf7-a129-1314bd647fad",
   "metadata": {},
   "outputs": [],
   "source": [
    "# split_dt=pd.DataFrame(copy_df['datetime'])\n",
    "# split_dt=copy_df['datetime'].str.split(' ', expand=True)\n",
    "# split_dt = split_dt.reindex(columns=[0, 1]).fillna('')\n",
    "# # split_dt.columns = ['split_date', 'split_time']\n",
    "# split_dt.columns = ['date_s', 'time']\n",
    "# copy_df = copy_df.join(split_dt)\n",
    "# copy_df.drop(labels=['date_s'], axis=1, inplace=True)"
   ]
  },
  {
   "cell_type": "code",
   "execution_count": 207,
   "id": "b358ad1b-6b36-4dea-b2a2-5f92ed6ce148",
   "metadata": {},
   "outputs": [
    {
     "name": "stdout",
     "output_type": "stream",
     "text": [
      "<class 'pandas.core.frame.DataFrame'>\n",
      "RangeIndex: 1653 entries, 0 to 1652\n",
      "Data columns (total 6 columns):\n",
      " #   Column       Non-Null Count  Dtype  \n",
      "---  ------       --------------  -----  \n",
      " 0   date         1653 non-null   object \n",
      " 1   datetime     1653 non-null   object \n",
      " 2   cash_type    1653 non-null   object \n",
      " 3   card         1564 non-null   object \n",
      " 4   money        1653 non-null   float64\n",
      " 5   coffee_name  1653 non-null   object \n",
      "dtypes: float64(1), object(5)\n",
      "memory usage: 77.6+ KB\n"
     ]
    }
   ],
   "source": [
    "copy_df.info()"
   ]
  },
  {
   "cell_type": "code",
   "execution_count": 208,
   "id": "99fe2dbb-faae-4857-be71-6748b96ea89f",
   "metadata": {},
   "outputs": [
    {
     "data": {
      "text/plain": [
       "Index(['date', 'datetime', 'cash_type', 'card', 'money', 'coffee_name'], dtype='object')"
      ]
     },
     "execution_count": 208,
     "metadata": {},
     "output_type": "execute_result"
    }
   ],
   "source": [
    "copy_df.columns"
   ]
  },
  {
   "cell_type": "code",
   "execution_count": 209,
   "id": "a24457bf-9c24-4433-98ad-54d4aeb3240e",
   "metadata": {},
   "outputs": [],
   "source": [
    "copy_df[\"date\"]=pd.to_datetime(arg=copy_df[\"date\"], format=\"%Y-%m-%d\")"
   ]
  },
  {
   "cell_type": "code",
   "execution_count": 210,
   "id": "28afc971-52c8-4768-977b-641796e8a7c2",
   "metadata": {},
   "outputs": [],
   "source": [
    "copy_df[\"datetime\"]=pd.to_datetime(arg=copy_df[\"datetime\"], format='%Y-%m-%d %H:%M:%S.%f', errors='coerce')"
   ]
  },
  {
   "cell_type": "code",
   "execution_count": 211,
   "id": "7c97be8b-1ea1-4bf9-9433-a896f4d7be47",
   "metadata": {},
   "outputs": [
    {
     "data": {
      "text/html": [
       "<div>\n",
       "<style scoped>\n",
       "    .dataframe tbody tr th:only-of-type {\n",
       "        vertical-align: middle;\n",
       "    }\n",
       "\n",
       "    .dataframe tbody tr th {\n",
       "        vertical-align: top;\n",
       "    }\n",
       "\n",
       "    .dataframe thead th {\n",
       "        text-align: right;\n",
       "    }\n",
       "</style>\n",
       "<table border=\"1\" class=\"dataframe\">\n",
       "  <thead>\n",
       "    <tr style=\"text-align: right;\">\n",
       "      <th></th>\n",
       "      <th>date</th>\n",
       "      <th>datetime</th>\n",
       "      <th>cash_type</th>\n",
       "      <th>card</th>\n",
       "      <th>money</th>\n",
       "      <th>coffee_name</th>\n",
       "    </tr>\n",
       "  </thead>\n",
       "  <tbody>\n",
       "    <tr>\n",
       "      <th>0</th>\n",
       "      <td>2024-03-01</td>\n",
       "      <td>2024-03-01 10:15:50.520</td>\n",
       "      <td>card</td>\n",
       "      <td>ANON-0000-0000-0001</td>\n",
       "      <td>38.7</td>\n",
       "      <td>Latte</td>\n",
       "    </tr>\n",
       "    <tr>\n",
       "      <th>1</th>\n",
       "      <td>2024-03-01</td>\n",
       "      <td>2024-03-01 12:19:22.539</td>\n",
       "      <td>card</td>\n",
       "      <td>ANON-0000-0000-0002</td>\n",
       "      <td>38.7</td>\n",
       "      <td>Hot Chocolate</td>\n",
       "    </tr>\n",
       "    <tr>\n",
       "      <th>2</th>\n",
       "      <td>2024-03-01</td>\n",
       "      <td>2024-03-01 12:20:18.089</td>\n",
       "      <td>card</td>\n",
       "      <td>ANON-0000-0000-0002</td>\n",
       "      <td>38.7</td>\n",
       "      <td>Hot Chocolate</td>\n",
       "    </tr>\n",
       "  </tbody>\n",
       "</table>\n",
       "</div>"
      ],
      "text/plain": [
       "        date                datetime cash_type                 card  money  \\\n",
       "0 2024-03-01 2024-03-01 10:15:50.520      card  ANON-0000-0000-0001   38.7   \n",
       "1 2024-03-01 2024-03-01 12:19:22.539      card  ANON-0000-0000-0002   38.7   \n",
       "2 2024-03-01 2024-03-01 12:20:18.089      card  ANON-0000-0000-0002   38.7   \n",
       "\n",
       "     coffee_name  \n",
       "0          Latte  \n",
       "1  Hot Chocolate  \n",
       "2  Hot Chocolate  "
      ]
     },
     "execution_count": 211,
     "metadata": {},
     "output_type": "execute_result"
    }
   ],
   "source": [
    "copy_df.head(3)"
   ]
  },
  {
   "cell_type": "code",
   "execution_count": 212,
   "id": "6c7fb81c-f2a1-4ac0-87c4-8497720411d4",
   "metadata": {},
   "outputs": [
    {
     "name": "stdout",
     "output_type": "stream",
     "text": [
      "<class 'pandas.core.frame.DataFrame'>\n",
      "RangeIndex: 1653 entries, 0 to 1652\n",
      "Data columns (total 6 columns):\n",
      " #   Column       Non-Null Count  Dtype         \n",
      "---  ------       --------------  -----         \n",
      " 0   date         1653 non-null   datetime64[ns]\n",
      " 1   datetime     1653 non-null   datetime64[ns]\n",
      " 2   cash_type    1653 non-null   object        \n",
      " 3   card         1564 non-null   object        \n",
      " 4   money        1653 non-null   float64       \n",
      " 5   coffee_name  1653 non-null   object        \n",
      "dtypes: datetime64[ns](2), float64(1), object(3)\n",
      "memory usage: 77.6+ KB\n"
     ]
    }
   ],
   "source": [
    "copy_df.info()"
   ]
  },
  {
   "cell_type": "code",
   "execution_count": null,
   "id": "91415e48-af06-4d45-acb0-58d090139895",
   "metadata": {},
   "outputs": [],
   "source": []
  },
  {
   "cell_type": "code",
   "execution_count": null,
   "id": "d3125cb7-14b5-4a64-9d60-978353770398",
   "metadata": {},
   "outputs": [],
   "source": []
  },
  {
   "cell_type": "code",
   "execution_count": null,
   "id": "522c240d-9760-4ac6-8c73-d1801418305f",
   "metadata": {},
   "outputs": [],
   "source": []
  },
  {
   "cell_type": "code",
   "execution_count": null,
   "id": "aed40ee9-a5c4-44d2-8e39-34a8409fb8fb",
   "metadata": {},
   "outputs": [],
   "source": []
  },
  {
   "cell_type": "code",
   "execution_count": null,
   "id": "2bcca1d5-0eb2-4908-9d4f-2e86ca13e7f9",
   "metadata": {},
   "outputs": [],
   "source": []
  },
  {
   "cell_type": "code",
   "execution_count": null,
   "id": "452dd9df-a138-4ea6-8e61-08bfa277a557",
   "metadata": {},
   "outputs": [],
   "source": []
  },
  {
   "cell_type": "code",
   "execution_count": 33,
   "id": "afaa4fa1-385d-42d1-b05a-3ee83b9d67b6",
   "metadata": {},
   "outputs": [],
   "source": [
    "# Library to generate basic statistics about data\n",
    "# !pip install ydata-profiling"
   ]
  },
  {
   "cell_type": "code",
   "execution_count": 34,
   "id": "3214ec2a-6b84-4eb1-91df-cdef3d41b672",
   "metadata": {},
   "outputs": [],
   "source": [
    "# Upgrading pandas profiling to the latest version\n",
    "# !pip install -q --upgrade ydata-profiling "
   ]
  },
  {
   "cell_type": "code",
   "execution_count": null,
   "id": "b946366b-20cb-4d93-90a1-9ed9fd7ff8a1",
   "metadata": {},
   "outputs": [],
   "source": []
  }
 ],
 "metadata": {
  "kernelspec": {
   "display_name": "Python 3 (ipykernel)",
   "language": "python",
   "name": "python3"
  },
  "language_info": {
   "codemirror_mode": {
    "name": "ipython",
    "version": 3
   },
   "file_extension": ".py",
   "mimetype": "text/x-python",
   "name": "python",
   "nbconvert_exporter": "python",
   "pygments_lexer": "ipython3",
   "version": "3.12.4"
  }
 },
 "nbformat": 4,
 "nbformat_minor": 5
}
